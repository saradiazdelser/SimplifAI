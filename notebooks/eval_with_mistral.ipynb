{
 "cells": [
  {
   "cell_type": "code",
   "execution_count": 4,
   "metadata": {},
   "outputs": [],
   "source": [
    "import logging\n",
    "import os\n",
    "import re\n",
    "from typing import List\n",
    "\n",
    "from langchain.chains import LLMChain\n",
    "from langchain.prompts import PromptTemplate\n",
    "from langchain_community.llms import HuggingFaceTextGenInference\n"
   ]
  },
  {
   "cell_type": "code",
   "execution_count": 5,
   "metadata": {},
   "outputs": [],
   "source": [
    "mixtral_config = {\n",
    "    \"inference_server_url\":\"http://10.10.78.11:8081/\",\n",
    "    \"max_new_tokens\":512,\n",
    "    \"top_k\":10,\n",
    "    \"top_p\":0.95,\n",
    "    \"typical_p\":0.95,\n",
    "    \"temperature\":0.01,\n",
    "}"
   ]
  },
  {
   "cell_type": "code",
   "execution_count": 6,
   "metadata": {},
   "outputs": [],
   "source": [
    "def execute_chain(simplified_text:str, prompt_text:str)-> str:\n",
    "    \"\"\"Executes a chain using the Mixtral model and the given input text and prompt.\"\"\"\n",
    "    llm = HuggingFaceTextGenInference(**mixtral_config)\n",
    "    \n",
    "    # set prompt\n",
    "    prompt_template = PromptTemplate(\n",
    "        template=prompt_text,\n",
    "        input_variables=['text'],\n",
    "    )\n",
    "    chain = LLMChain(llm=llm, prompt=prompt_template)\n",
    "    llm_response = chain({'text':simplified_text})\n",
    "    llm_response = llm_response[\"text\"].strip()\n",
    "\n",
    "    return llm_response"
   ]
  },
  {
   "cell_type": "code",
   "execution_count": 8,
   "metadata": {},
   "outputs": [],
   "source": [
    "simplified_text = \"The Savanna is a type of ecosystem.\\nThe Savanna is found in tropical regions.\\nThere is grass and some trees in the Savanna.\\nSavannas typically have warm temperatures.\\nSavannas have both wet and dry seasons.\\nLots of animals live in the Savannas.\\nAnimales like zebras and lions live in the Savanna.\""
   ]
  },
  {
   "cell_type": "markdown",
   "metadata": {},
   "source": [
    "Evaluation requirements\n",
    "\n",
    "1. Each sentence expresses only one idea.\n",
    "2. The subject of each sentence must be explicit. Do not use pronouns as subjects.\n",
    "3. Use short sentences and simple vocabulary. Use simple and direct language.\n",
    "4. Do not use negations.\n",
    "5. Do not use too many numbers or mathematical denominations. If there is no choice but to insert a number, always use digits.\n",
    "6. Do not use confusing metaphors or complex comparisons.\n",
    "7. Be clear, concise and direct.\n",
    "8. Do not use technical terms, abbreviations and initials.\n",
    "9. Text should be clear and coherent.\n",
    "10. Avoid unnecessary ideas, words, sentences or phrases.\n"
   ]
  },
  {
   "cell_type": "code",
   "execution_count": null,
   "metadata": {},
   "outputs": [],
   "source": [
    "prompt_text = \"\"\"[INST] Assign a score (0-10 points) to\n",
    "Text to evaluate:\n",
    "{text}\n",
    "Score: [/INST] \"\"\"\n"
   ]
  },
  {
   "cell_type": "code",
   "execution_count": null,
   "metadata": {},
   "outputs": [],
   "source": [
    "response = execute_chain(simplified_text=simplified_text, prompt_text=prompt_text)"
   ]
  }
 ],
 "metadata": {
  "kernelspec": {
   "display_name": ".venv",
   "language": "python",
   "name": "python3"
  },
  "language_info": {
   "codemirror_mode": {
    "name": "ipython",
    "version": 3
   },
   "file_extension": ".py",
   "mimetype": "text/x-python",
   "name": "python",
   "nbconvert_exporter": "python",
   "pygments_lexer": "ipython3",
   "version": "3.9.18"
  }
 },
 "nbformat": 4,
 "nbformat_minor": 2
}
