{
 "cells": [
  {
   "cell_type": "code",
   "execution_count": 46,
   "metadata": {},
   "outputs": [],
   "source": [
    "import logging\n",
    "import os\n",
    "import re\n",
    "from typing import List\n",
    "\n",
    "from langchain.chains import LLMChain\n",
    "from langchain.prompts import PromptTemplate\n",
    "from langchain_community.llms import HuggingFaceTextGenInference\n"
   ]
  },
  {
   "cell_type": "code",
   "execution_count": 156,
   "metadata": {},
   "outputs": [],
   "source": [
    "mixtral_config = {\n",
    "    \"inference_server_url\":\"http://10.10.78.11:8081/\",\n",
    "    \"max_new_tokens\":5,\n",
    "    \"top_k\":5,\n",
    "    \"top_p\":0.95,\n",
    "    \"typical_p\":0.95,\n",
    "    \"temperature\": 0.01,\n",
    "}"
   ]
  },
  {
   "cell_type": "code",
   "execution_count": 157,
   "metadata": {},
   "outputs": [],
   "source": [
    "def execute_chain(simplified_text:str, prompt_text:str)-> str:\n",
    "    \"\"\"Executes a chain using the Mixtral model and the given input text and prompt.\"\"\"\n",
    "    llm = HuggingFaceTextGenInference(**mixtral_config)\n",
    "    \n",
    "    # set prompt\n",
    "    prompt_template = PromptTemplate(\n",
    "        template=prompt_text,\n",
    "        input_variables=['text'],\n",
    "    )\n",
    "    chain = LLMChain(llm=llm, prompt=prompt_template)\n",
    "    llm_response = chain({'text':simplified_text})\n",
    "    llm_response = llm_response[\"text\"].strip()\n",
    "\n",
    "    return llm_response"
   ]
  },
  {
   "cell_type": "code",
   "execution_count": 171,
   "metadata": {},
   "outputs": [],
   "source": [
    "simplified_text = \"The Savanna is a type of ecosystem.\\nThe Savanna is found in tropical regions.\\nSavannas typically have warm temperatures.\\nSavannas have both wet and dry seasons.\\nLots of animals live in the Savannas.\\nAnimales like zebras and lions live in the Savanna.\"\n",
    "simplified_text_2= \"The Savanna is not a type of ecosystem.\\nThe Savanna is not found in tropical regions.\\nThe Savanna typically have not warm temperatures.\\nThe Savanna has not both wet and dry seasons.\"\n",
    "simplified_text_3 = \"The Savanna is a type of ecosystem.\\nThe Savanna is found in tropical regions.\\nSavannas typically have not warm temperatures.\\nThere no grass and trees in the Savanna.\""
   ]
  },
  {
   "cell_type": "markdown",
   "metadata": {},
   "source": [
    "Evaluation requirements\n",
    "\n",
    "1. Each sentence expresses only one idea.\n",
    "2. The subject of each sentence must be explicit. Do not use pronouns as subjects.\n",
    "3. Use short sentences and simple vocabulary. Use simple and direct language.\n",
    "4. Do not use negations.\n",
    "5. Do not use too many numbers or mathematical denominations. If there is no choice but to insert a number, always use digits.\n",
    "6. Do not use confusing metaphors or complex comparisons.\n",
    "7. Be clear, concise and direct.\n",
    "8. Do not use technical terms, abbreviations and initials.\n",
    "9. Text should be clear and coherent.\n",
    "10. Avoid unnecessary ideas, words, sentences or phrases.\n"
   ]
  },
  {
   "cell_type": "code",
   "execution_count": 176,
   "metadata": {},
   "outputs": [],
   "source": [
    "prompt_text= \"\"\"<s>[INST] Assign a score to the given text. The output must be a number 0, 5, 10.\n",
    "    The output will be '10' if it meets the requirement of ''Do not use negations'' in every sentence, and will be '0' if it does not meet it in any sentence. If some sentences meet the requirement, but other not meet it, set a score of '5'.\n",
    "\n",
    "    Text 1: \"The capybara is a big rodent.\\nThe capybara lives in South America.\\nThe capybara is the biggest rodent alive.\\n It lives in South America.\\nCapybaras are part of the Hydrochoerus family.\\n The capybara lives in savannas and rainforests.\\nThe capybara lives near places with water.\\n\" \n",
    "    The assigned score to Text 1 is (0-10): 10 points\n",
    "\n",
    "    Text 2: \"The capybara is not a big rodent.\\nThe capybara does not live in South America.\\nThe capybara is not the biggest rodent alive.\\n It does not live in South America.\\nCapybaras are not part of the Hydrochoerus family.\\n The capybara does not live in savannas and rainforests.\\nThe capybara does not live near places with water.\\n\" \n",
    "    The assigned score to Text 2 is (0-10): 0 points\n",
    "\n",
    "    Text 3: \"The capybara is not a big rodent.\\nThe capybara does live in South America.\\nThe capybara is the biggest rodent alive.\\n It does not live in South America.\\nCapybaras are not part of the Hydrochoerus family.\\n The capybara does not live in savannas and rainforests.\\n\" \n",
    "    The assigned score to Text 3 is (0-10): 5 points\n",
    "    [/INST]</s> \n",
    "\n",
    "    [INST] \n",
    "    Text 4: \"{text}\"\n",
    "    The assigned score to Text 4 is (0-10): \n",
    "    [/INST]\n",
    "\"\"\""
   ]
  },
  {
   "cell_type": "code",
   "execution_count": 177,
   "metadata": {},
   "outputs": [
    {
     "name": "stdout",
     "output_type": "stream",
     "text": [
      "SCORE TEXT 0: 10 points.\n",
      "SCORE TEXT 1: 0 points.\n",
      "SCORE TEXT 2: 0 points.\n"
     ]
    }
   ],
   "source": [
    "for i,text in enumerate([simplified_text, simplified_text_2, simplified_text_3]):\n",
    "    resp = execute_chain(simplified_text=text, prompt_text=prompt_text)\n",
    "    print(f'SCORE TEXT {i}: {resp}')"
   ]
  },
  {
   "cell_type": "code",
   "execution_count": null,
   "metadata": {},
   "outputs": [],
   "source": []
  },
  {
   "cell_type": "code",
   "execution_count": null,
   "metadata": {},
   "outputs": [],
   "source": []
  }
 ],
 "metadata": {
  "kernelspec": {
   "display_name": ".venv",
   "language": "python",
   "name": "python3"
  },
  "language_info": {
   "codemirror_mode": {
    "name": "ipython",
    "version": 3
   },
   "file_extension": ".py",
   "mimetype": "text/x-python",
   "name": "python",
   "nbconvert_exporter": "python",
   "pygments_lexer": "ipython3",
   "version": "3.10.8"
  }
 },
 "nbformat": 4,
 "nbformat_minor": 2
}
