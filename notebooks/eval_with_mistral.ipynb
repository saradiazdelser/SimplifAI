{
 "cells": [
  {
   "cell_type": "code",
   "execution_count": 7,
   "metadata": {},
   "outputs": [],
   "source": [
    "import logging\n",
    "import os\n",
    "import re\n",
    "from typing import List\n",
    "\n",
    "from langchain.chains import LLMChain\n",
    "from langchain.prompts import PromptTemplate\n",
    "from langchain_community.llms import HuggingFaceTextGenInference\n"
   ]
  },
  {
   "cell_type": "code",
   "execution_count": 8,
   "metadata": {},
   "outputs": [],
   "source": [
    "mixtral_config = {\n",
    "    \"inference_server_url\":\"http://10.10.78.11:8081/\",\n",
    "    \"max_new_tokens\":10,\n",
    "    \"top_k\":7,\n",
    "    \"top_p\":0.95,\n",
    "    \"typical_p\":0.95,\n",
    "    \"temperature\": 0.1,\n",
    "}"
   ]
  },
  {
   "cell_type": "code",
   "execution_count": 9,
   "metadata": {},
   "outputs": [],
   "source": [
    "def execute_chain(simplified_text:str, prompt_text:str)-> str:\n",
    "    \"\"\"Executes a chain using the Mixtral model and the given input text and prompt.\"\"\"\n",
    "    llm = HuggingFaceTextGenInference(**mixtral_config)\n",
    "    \n",
    "    # set prompt\n",
    "    prompt_template = PromptTemplate(\n",
    "        template=prompt_text,\n",
    "        input_variables=['text'],\n",
    "    )\n",
    "    chain = LLMChain(llm=llm, prompt=prompt_template)\n",
    "    llm_response = chain({'text':simplified_text})\n",
    "    llm_response = llm_response[\"text\"].strip()\n",
    "\n",
    "    return llm_response"
   ]
  },
  {
   "cell_type": "code",
   "execution_count": 18,
   "metadata": {},
   "outputs": [],
   "source": [
    "simplified_text = \"The Savanna is a type of ecosystem.\\nThe Savanna is found in tropical regions.\\nSavannas typically have warm temperatures.\\nSavannas have both wet and dry seasons.\\nLots of animals live in the Savannas.\\n\"\n",
    "simplified_text_2=  \"It is a big place with tall grass and 1,000,000 trees, where many animals like lions and giraffes live there.\\n It does not get very hot and dry temperatures.\\n\""
   ]
  },
  {
   "cell_type": "markdown",
   "metadata": {},
   "source": [
    "Evaluation requirements\n",
    "\n",
    "1. Each sentence expresses only one idea.\n",
    "2. The subject of each sentence must be explicit. Do not use pronouns as subjects.\n",
    "3. Use short sentences and simple vocabulary. Use simple and direct language.\n",
    "4. Do not use negations.\n",
    "5. Do not use too many numbers or mathematical denominations. If there is no choice but to insert a number, always use digits.\n",
    "6. Do not use confusing metaphors or complex comparisons.\n",
    "7. Be clear, concise and direct.\n",
    "8. Do not use technical terms, abbreviations and initials.\n",
    "9. Text should be clear and coherent.\n",
    "10. Avoid unnecessary ideas, words, sentences or phrases.\n"
   ]
  },
  {
   "cell_type": "code",
   "execution_count": 19,
   "metadata": {},
   "outputs": [],
   "source": [
    "prompt_text= \"\"\"\"<s>[INST] Assign a score to the given text. The requirement of each sentence is 'The subject of each sentence must be explicit, that means, does not begin with a pronoun'.\n",
    "\n",
    "    The output will be '1' if it meets the requirement in every sentence, will be '0' if it does not meet it in any sentence.\n",
    "\n",
    "    Text 1: \"The capybara is a big rodent.\\nThe capybara lives in South America.\\nThe capybara is the biggest rodent alive.\\n Capybaras are part of the Hydrochoerus family.\\n The capybara lives in savannas and rainforests.\\nThe capybara lives near places with water.\" \n",
    "    Score (0-1): 1 points\n",
    "    \n",
    "    Text 2: \"It is a big rodent.\\nIt lives in South America.\\nIt is the biggest rodent alive.\\n They are part of the Hydrochoerus family.\\n It lives in savannas and rainforests.\\nIt lives near places with water.\" \n",
    "    Score (0-1): 0 points\n",
    "    \n",
    "    [/INST]</s> \n",
    "\n",
    "    [INST] \n",
    "    Text: \"{text}\"\n",
    "    Score (0-1): \n",
    "    The output must be a number without explanations. \n",
    "    [/INST]\n",
    "\"\"\""
   ]
  },
  {
   "cell_type": "code",
   "execution_count": 20,
   "metadata": {},
   "outputs": [
    {
     "name": "stdout",
     "output_type": "stream",
     "text": [
      "SCORE TEXT 0: 1 points\n",
      "SCORE TEXT 1: 0 points\n"
     ]
    }
   ],
   "source": [
    "for i,text in enumerate([simplified_text, simplified_text_2]):\n",
    "    resp = execute_chain(simplified_text=text, prompt_text=prompt_text)\n",
    "    print(f'SCORE TEXT {i}: {resp}')"
   ]
  },
  {
   "cell_type": "code",
   "execution_count": null,
   "metadata": {},
   "outputs": [],
   "source": []
  },
  {
   "cell_type": "code",
   "execution_count": null,
   "metadata": {},
   "outputs": [],
   "source": []
  },
  {
   "cell_type": "code",
   "execution_count": null,
   "metadata": {},
   "outputs": [],
   "source": []
  }
 ],
 "metadata": {
  "kernelspec": {
   "display_name": ".venv",
   "language": "python",
   "name": "python3"
  },
  "language_info": {
   "codemirror_mode": {
    "name": "ipython",
    "version": 3
   },
   "file_extension": ".py",
   "mimetype": "text/x-python",
   "name": "python",
   "nbconvert_exporter": "python",
   "pygments_lexer": "ipython3",
   "version": "3.10.8"
  }
 },
 "nbformat": 4,
 "nbformat_minor": 2
}
