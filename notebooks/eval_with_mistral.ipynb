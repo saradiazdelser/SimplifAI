{
 "cells": [
  {
   "cell_type": "code",
   "execution_count": 1,
   "metadata": {},
   "outputs": [],
   "source": [
    "import logging\n",
    "import os\n",
    "import re\n",
    "from typing import List\n",
    "\n",
    "from langchain.chains import LLMChain\n",
    "from langchain.prompts import PromptTemplate\n",
    "from langchain_community.llms import HuggingFaceTextGenInference\n"
   ]
  },
  {
   "cell_type": "code",
   "execution_count": 2,
   "metadata": {},
   "outputs": [],
   "source": [
    "mixtral_config = {\n",
    "    \"inference_server_url\":\"http://10.10.78.11:8081/\",\n",
    "    \"max_new_tokens\":10,\n",
    "    \"top_k\":7,\n",
    "    \"top_p\":0.95,\n",
    "    \"typical_p\":0.95,\n",
    "    \"temperature\": 0.1,\n",
    "}"
   ]
  },
  {
   "cell_type": "code",
   "execution_count": 3,
   "metadata": {},
   "outputs": [],
   "source": [
    "def execute_chain(simplified_text:str, prompt_text:str)-> str:\n",
    "    \"\"\"Executes a chain using the Mixtral model and the given input text and prompt.\"\"\"\n",
    "    llm = HuggingFaceTextGenInference(**mixtral_config)\n",
    "    \n",
    "    # set prompt\n",
    "    prompt_template = PromptTemplate(\n",
    "        template=prompt_text,\n",
    "        input_variables=['text'],\n",
    "    )\n",
    "    chain = LLMChain(llm=llm, prompt=prompt_template)\n",
    "    llm_response = chain({'text':simplified_text})\n",
    "    llm_response = llm_response[\"text\"].strip()\n",
    "\n",
    "    return llm_response"
   ]
  },
  {
   "cell_type": "code",
   "execution_count": 112,
   "metadata": {},
   "outputs": [],
   "source": [
    "simplified_text = \"The Savanna is a type of ecosystem.\\nThe Savanna is found in tropical regions.\\nSavannas typically have warm temperatures.\\nSavannas have both wet and dry seasons.\\nLots of animals live in the Savannas.\\n\"\n",
    "simplified_text_2=  \"It is a big place with tall grass and 1,000,000 trees, where many animals like lions and giraffes live there.\\n It does not get very hot and dry temperatures.\\n\""
   ]
  },
  {
   "cell_type": "markdown",
   "metadata": {},
   "source": [
    "Evaluation requirements\n",
    "\n",
    "1. Each sentence expresses only one idea.\n",
    "2. The subject of each sentence must be explicit. Do not use pronouns as subjects.\n",
    "3. Use short sentences and simple vocabulary. Use simple and direct language.\n",
    "4. Do not use negations.\n",
    "5. Do not use too many numbers or mathematical denominations. If there is no choice but to insert a number, always use digits.\n",
    "6. Do not use confusing metaphors or complex comparisons.\n",
    "7. Be clear, concise and direct.\n",
    "8. Do not use technical terms, abbreviations and initials.\n",
    "9. Text should be clear and coherent.\n",
    "10. Avoid unnecessary ideas, words, sentences or phrases.\n"
   ]
  },
  {
   "cell_type": "code",
   "execution_count": 113,
   "metadata": {},
   "outputs": [],
   "source": [
    "prompt_text= \"\"\"<s>[INST] Assign a score to the given text. The requirement of each sentence is 'Do not use negations'.\n",
    "\n",
    "    The output will be '10' if every sentence is positive, will be '0' if every sentence is negative. If some sentences meet the requirement, but other not meet it, set a score of '5'.\n",
    "\n",
    "    Text 1: \"The capybara is a big rodent.\\nThe capybara lives in South America.\\nThe capybara is the biggest rodent alive.\\n It lives in South America.\\nCapybaras are part of the Hydrochoerus family.\\n The capybara lives in savannas and rainforests.\\nThe capybara lives near places with water.\\n\" \n",
    "    Score is (0-10): 10 points\n",
    "\n",
    "    Text 2: \"The capybara is not a big rodent.\\nThe capybara does not live in South America.\\nThe capybara is not the biggest rodent alive.\\n It does not live in South America.\\nCapybaras are not part of the Hydrochoerus family.\\n The capybara does not live in savannas and rainforests.\\nThe capybara does not live near places with water.\\n\" \n",
    "    Score is (0-10): 0 points\n",
    "\n",
    "    Text 3: \"The capybara is not a big rodent.\\nThe capybara does live in South America.\\nThe capybara is the biggest rodent alive.\\n It does not live in South America.\\nCapybaras are not part of the Hydrochoerus family.\\n The capybara does not live in savannas and rainforests.\\n\" \n",
    "    Score is (0-10): 5 points\n",
    "    [/INST]</s> \n",
    "\n",
    "    [INST] \n",
    "    Text: \"{text}\"\n",
    "    Score is (0-10): \n",
    "\n",
    "    The output must be a number without explanations. [/INST]\n",
    "\"\"\""
   ]
  },
  {
   "cell_type": "code",
   "execution_count": 115,
   "metadata": {},
   "outputs": [
    {
     "name": "stdout",
     "output_type": "stream",
     "text": [
      "SCORE TEXT 0: 10 points\n",
      "SCORE TEXT 1: Score is (0-10): 5\n"
     ]
    }
   ],
   "source": [
    "for i,text in enumerate([simplified_text, simplified_text_2]):\n",
    "    resp = execute_chain(simplified_text=text, prompt_text=prompt_text)\n",
    "    print(f'SCORE TEXT {i}: {resp}')"
   ]
  },
  {
   "cell_type": "code",
   "execution_count": null,
   "metadata": {},
   "outputs": [],
   "source": []
  },
  {
   "cell_type": "code",
   "execution_count": null,
   "metadata": {},
   "outputs": [],
   "source": []
  },
  {
   "cell_type": "code",
   "execution_count": null,
   "metadata": {},
   "outputs": [],
   "source": []
  }
 ],
 "metadata": {
  "kernelspec": {
   "display_name": ".venv",
   "language": "python",
   "name": "python3"
  },
  "language_info": {
   "codemirror_mode": {
    "name": "ipython",
    "version": 3
   },
   "file_extension": ".py",
   "mimetype": "text/x-python",
   "name": "python",
   "nbconvert_exporter": "python",
   "pygments_lexer": "ipython3",
   "version": "3.10.8"
  }
 },
 "nbformat": 4,
 "nbformat_minor": 2
}
