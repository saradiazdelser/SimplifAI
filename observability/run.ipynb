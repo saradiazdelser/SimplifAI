{
 "cells": [
  {
   "cell_type": "code",
   "execution_count": 1,
   "metadata": {},
   "outputs": [],
   "source": [
    "# %pip install trulens "
   ]
  },
  {
   "cell_type": "code",
   "execution_count": 6,
   "metadata": {},
   "outputs": [
    {
     "name": "stderr",
     "output_type": "stream",
     "text": [
      "INFO: Detected pytorch backend for <class 'transformers.models.distilbert.modeling_distilbert.DistilBertForSequenceClassification'>.\n",
      "INFO: Using backend Backend.PYTORCH.\n",
      "INFO: If this seems incorrect, you can force the correct backend by passing the `backend` parameter directly into your get_model_wrapper call.\n"
     ]
    },
    {
     "name": "stdout",
     "output_type": "stream",
     "text": [
      "[('[CLS]', 0.0), ('the', -1.9), ('cap', -5.800000000000001), ('##y', -1.5), ('##bara', -4.3999999999999995), ('or', -1.2), ('greater', -7.3999999999999995), ('cap', -4.3), ('##y', -2.1999999999999997), ('##bara', -3.8), ('(', -1.7999999999999998), ('hydro', -2.4), ('##cho', -2.8000000000000003), ('##erus', -3.6999999999999997), ('hydro', -2.6), ('##cha', -3.5999999999999996), ('##eri', -2.9000000000000004), ('##s', -2.7), (')', -4.1000000000000005), ('is', -2.9000000000000004), ('a', -0.1), ('giant', 1.0999999999999999), ('ca', -3.2), ('##vy', -3.0), ('rode', -2.4), ('##nt', -7.1), ('native', -8.200000000000001), ('to', -2.5), ('south', -5.2), ('america', 1.0), ('.', 3.8), ('it', -0.3), ('is', 1.0999999999999999), ('the', -2.1), ('largest', -7.000000000000001), ('living', -0.7000000000000001), ('rode', -2.1999999999999997), ('##nt', -5.0), ('and', -2.4), ('a', -0.3), ('member', -7.6), ('of', -4.0), ('the', -1.0999999999999999), ('genus', -6.3), ('hydro', -1.5), ('##cho', -2.6), ('##erus', -4.9), ('.', 3.0), ('the', -2.1999999999999997), ('only', -2.8000000000000003), ('other', -3.9), ('extant', -12.9), ('member', -11.0), ('is', -0.3), ('the', -0.7000000000000001), ('lesser', -7.199999999999999), ('cap', -3.5999999999999996), ('##y', -2.3), ('##bara', -3.1), ('(', -1.7999999999999998), ('hydro', -2.0), ('##cho', -2.0), ('##erus', -2.8000000000000003), ('ist', -2.5), ('##hmi', -3.0), ('##us', -2.6), (')', -1.7000000000000002), ('.', -2.5), ('its', -2.6), ('close', -3.5999999999999996), ('relatives', -12.8), ('include', -15.299999999999999), ('guinea', -3.6999999999999997), ('pigs', -3.8), ('and', -2.7), ('rock', -0.3), ('ca', -1.4000000000000001), ('##vies', -2.6), (',', -2.6), ('and', -1.7999999999999998), ('it', 1.0999999999999999), ('is', 6.4), ('more', 6.6000000000000005), ('distant', -9.3), ('##ly', -15.7), ('related', -13.5), ('to', -4.8), ('the', -2.6), ('ago', 0.1), ('##uti', -3.3000000000000003), (',', -0.8999999999999999), ('the', -1.9), ('chin', -2.6), ('##chi', -1.6), ('##lla', -1.7000000000000002), (',', -1.4000000000000001), ('and', -1.6), ('the', -0.3), ('nut', -2.3), ('##ria', -6.7), ('.', 0.6), ('the', -1.5), ('cap', -3.5999999999999996), ('##y', -2.3), ('##bara', -3.6999999999999997), ('inhabit', -8.0), ('##s', -4.6), ('savanna', -5.3), ('##s', -3.0), ('and', -1.4000000000000001), ('dense', -5.2), ('forests', -4.9), (',', -2.3), ('and', -3.2), ('lives', 0.1), ('near', -3.3000000000000003), ('bodies', -2.9000000000000004), ('of', -5.3), ('water', -1.6), ('.', 6.800000000000001), ('it', 5.0), ('is', 1.0), ('a', 2.6), ('highly', -17.299999999999997), ('social', -1.6), ('species', -6.4), ('and', -1.0999999999999999), ('can', 3.8), ('be', -3.5999999999999996), ('found', -6.4), ('in', -4.7), ('groups', -10.100000000000001), ('as', -5.4), ('large', -5.5), ('as', -5.8999999999999995), ('100', 0.1), ('individuals', -12.2), (',', -6.1), ('but', 5.800000000000001), ('usually', -8.799999999999999), ('live', -2.6), ('in', -8.799999999999999), ('groups', -9.3), ('of', -4.3), ('10', -2.6), ('–', 3.0), ('20', -0.8), ('individuals', -12.0), ('.', 8.5), ('the', -2.7), ('cap', -5.800000000000001), ('##y', -3.4000000000000004), ('##bara', -5.2), ('is', 14.499999999999998), ('hunted', -8.1), ('for', -4.2), ('its', -3.0), ('meat', -6.2), ('and', -2.3), ('hide', -1.5), ('and', -2.6), ('also', -6.4), ('for', -5.4), ('grease', -3.9), ('from', -9.1), ('its', -2.5), ('thick', -4.8), ('fatty', -7.1), ('skin', -4.1000000000000005), ('.', 5.3), ('it', -3.2), ('is', 0.4), ('not', 15.6), ('considered', -16.900000000000002), ('a', 9.4), ('threatened', -4.9), ('species', -17.5), ('.', 27.500000000000004), ('[SEP]', 0.0)]\n"
     ]
    }
   ],
   "source": [
    "from observability import GradioHTML, SimpleEnglishClassifier\n",
    "def classify(text):\n",
    "    classifier_id = 'saradiaz/distilbert-base-uncased-simpleEng-classifier'\n",
    "    task = SimpleEnglishClassifier(model_path=classifier_id, resolution=5)\n",
    "    title, results = task.visualization(texts=[text], output_type=GradioHTML())\n",
    "    attributions = results[1:]\n",
    "    print(attributions)\n",
    "    return attributions\n",
    "\n",
    "text = 'The capybara or greater capybara (Hydrochoerus hydrochaeris) is a giant cavy rodent native to South America. It is the largest living rodent and a member of the genus Hydrochoerus. The only other extant member is the lesser capybara (Hydrochoerus isthmius). Its close relatives include guinea pigs and rock cavies, and it is more distantly related to the agouti, the chinchilla, and the nutria. The capybara inhabits savannas and dense forests, and lives near bodies of water. It is a highly social species and can be found in groups as large as 100 individuals, but usually live in groups of 10–20 individuals. The capybara is hunted for its meat and hide and also for grease from its thick fatty skin. It is not considered a threatened species.'\n",
    "_ = classify(text)\n"
   ]
  }
 ],
 "metadata": {
  "kernelspec": {
   "display_name": ".venv",
   "language": "python",
   "name": "python3"
  },
  "language_info": {
   "codemirror_mode": {
    "name": "ipython",
    "version": 3
   },
   "file_extension": ".py",
   "mimetype": "text/x-python",
   "name": "python",
   "nbconvert_exporter": "python",
   "pygments_lexer": "ipython3",
   "version": "3.9.18"
  }
 },
 "nbformat": 4,
 "nbformat_minor": 2
}
