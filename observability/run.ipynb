{
 "cells": [
  {
   "cell_type": "code",
   "execution_count": 1,
   "metadata": {},
   "outputs": [],
   "source": [
    "# %pip install trulens "
   ]
  },
  {
   "cell_type": "code",
   "execution_count": 2,
   "metadata": {},
   "outputs": [],
   "source": [
    "from observability import SimpleEnglishClassifier, GradioHTML, CustomIPython, CustomHTML\n",
    "# from IPython.display import HTML as HTMLDisplay"
   ]
  },
  {
   "cell_type": "code",
   "execution_count": null,
   "metadata": {},
   "outputs": [],
   "source": [
    "TEXTS = [\n",
    "    \"Gothic cathedrals are important examples of gothic architecture. Gothic architecture began in Western Europe in the Late Middle Ages. Gothic architecture started in the 12th century, and lasted until the 16th century. Important features of the style are pointed arches, ribbed vaults and flying buttresses.\",\n",
    "    \"Gothic architecture is an architectural style that was prevalent in Europe from the late 12th to the 16th century, during the High and Late Middle Ages, surviving into the 17th and 18th centuries in some areas.[1] It evolved from Romanesque architecture and was succeeded by Renaissance architecture. It originated in the Île-de-France and Picardy regions of northern France. The style at the time was sometimes known as opus Francigenum (lit. 'French work');[2] the term Gothic was first applied contemptuously during the later Renaissance, by those ambitious to revive the architecture of classical antiquity.\"\n",
    "    ]\n",
    "\n",
    "PATH = '/observability/models/distilbert-base-uncased-simpleEng-classifier-5_best'"
   ]
  },
  {
   "cell_type": "code",
   "execution_count": 3,
   "metadata": {},
   "outputs": [
    {
     "name": "stderr",
     "output_type": "stream",
     "text": [
      "INFO: lib level=1\n",
      "INFO: root level=30\n",
      "INFO: Detected pytorch backend for <class 'transformers.models.distilbert.modeling_distilbert.DistilBertForSequenceClassification'>.\n",
      "INFO: Changing backend from None to Backend.PYTORCH.\n",
      "INFO: If this seems incorrect, you can force the correct backend by passing the `backend` parameter directly into your get_model_wrapper call.\n"
     ]
    }
   ],
   "source": [
    "task = SimpleEnglishClassifier(model_path=PATH, resolution=1)\n",
    "title, results = task.visualization(texts=TEXTS, output_type=GradioHTML())\n"
   ]
  },
  {
   "cell_type": "code",
   "execution_count": 5,
   "metadata": {},
   "outputs": [
    {
     "name": "stdout",
     "output_type": "stream",
     "text": [
      "QOI: INFL COMPLEX (W/BASELINE)\n",
      "SIMPLE : [('[CLS]', 0.0), ('gothic', -1.5), ('cathedral', -1.9), ('##s', -1.0999999999999999), ('are', -1.2), ('important', -1.4000000000000001), ('examples', -4.0), ('of', -2.5), ('gothic', -2.0), ('architecture', -3.3000000000000003), ('.', -0.3), ('gothic', -2.9000000000000004), ('architecture', -4.5), ('began', -3.2), ('in', -2.0), ('western', -1.9), ('europe', 0.2), ('in', -1.3), ('the', -0.4), ('late', -1.6), ('middle', -0.7000000000000001), ('ages', -2.0), ('.', 2.7), ('gothic', -3.1), ('architecture', -3.6999999999999997), ('started', -1.7000000000000002), ('in', -1.5), ('the', -0.7000000000000001), ('12th', -1.6), ('century', -1.6), (',', -1.0999999999999999), ('and', -1.9), ('lasted', -4.3999999999999995), ('until', -1.7000000000000002), ('the', -0.8), ('16th', -1.0999999999999999), ('century', -1.9), ('.', -0.3), ('important', -3.0), ('features', -3.4000000000000004), ('of', -4.2), ('the', -0.8), ('style', -2.7), ('are', -1.5), ('pointed', -1.0), ('arches', -1.2), (',', -0.3), ('rib', -0.8), ('##bed', -0.8), ('vaults', -0.8), ('and', -0.2), ('flying', -0.3), ('butt', -0.8999999999999999), ('##resses', -0.8999999999999999), ('.', -0.8999999999999999), ('[SEP]', 0.0)]\n",
      "COMPLEX : [('[CLS]', 0.0), ('gothic', -4.6), ('architecture', -6.2), ('is', 1.7999999999999998), ('an', 1.0), ('architectural', -4.9), ('style', -6.800000000000001), ('that', -2.6), ('was', -1.6), ('prevalent', -8.7), ('in', -2.6), ('europe', 0.4), ('from', -3.3000000000000003), ('the', -1.3), ('late', -3.5000000000000004), ('12th', -3.4000000000000004), ('to', -2.7), ('the', -1.4000000000000001), ('16th', -1.3), ('century', -2.1), (',', -1.6), ('during', -2.9000000000000004), ('the', -1.7000000000000002), ('high', -2.6), ('and', -1.7999999999999998), ('late', -2.1999999999999997), ('middle', -0.8), ('ages', -1.3), (',', -4.6), ('surviving', -11.200000000000001), ('into', -1.9), ('the', -2.1), ('17th', -2.9000000000000004), ('and', -1.7999999999999998), ('18th', -2.5), ('centuries', -2.5), ('in', -4.1000000000000005), ('some', -1.5), ('areas', -6.7), ('.', 3.1), ('[', 0.1), ('1', -3.8), (']', -2.5), ('it', 2.3), ('evolved', -5.2), ('from', -1.0999999999999999), ('romanesque', -5.8999999999999995), ('architecture', -5.800000000000001), ('and', -2.8000000000000003), ('was', 1.3), ('succeeded', -7.3), ('by', -4.6), ('renaissance', -4.3), ('architecture', -7.199999999999999), ('.', -0.5), ('it', 0.6), ('originated', -13.100000000000001), ('in', -3.5999999999999996), ('the', -2.3), ('ile', -3.6999999999999997), ('-', -3.6999999999999997), ('de', -2.7), ('-', -2.9000000000000004), ('france', -1.0999999999999999), ('and', -2.5), ('pic', -2.6), ('##ard', -2.7), ('##y', -2.0), ('regions', -4.1000000000000005), ('of', -5.1), ('northern', -3.6999999999999997), ('france', -4.5), ('.', 1.6), ('the', -1.9), ('style', -13.200000000000001), ('at', -3.8), ('the', -2.6), ('time', -1.9), ('was', 8.7), ('sometimes', -3.5000000000000004), ('known', -15.5), ('as', -7.5), ('opus', -5.8999999999999995), ('fran', -3.6999999999999997), ('##ci', -3.6999999999999997), ('##gen', -1.4000000000000001), ('##um', -3.5999999999999996), ('(', -6.1), ('lit', 2.7), ('.', -1.6), (\"'\", -1.6), ('french', 2.9000000000000004), ('work', -0.7000000000000001), (\"'\", -1.0999999999999999), (')', -2.0), (';', -2.9000000000000004), ('[', -0.1), ('2', -0.5), (']', -1.6), ('the', -2.0), ('term', -5.800000000000001), ('gothic', -4.8), ('was', 0.8), ('first', -2.0), ('applied', -9.8), ('contempt', -5.7), ('##uously', -6.4), ('during', -2.8000000000000003), ('the', -1.0999999999999999), ('later', -3.1), ('renaissance', -3.8), (',', -1.7999999999999998), ('by', -2.4), ('those', 0.8999999999999999), ('ambitious', -6.5), ('to', 0.8999999999999999), ('revive', -8.5), ('the', -1.0), ('architecture', -5.3), ('of', -3.2), ('classical', -5.4), ('antiquity', -4.2), ('.', 2.5), ('[SEP]', 0.0)]\n"
     ]
    }
   ],
   "source": [
    "# Visualization\n",
    "print('QOI:', title)\n",
    "for text in results:\n",
    "    label = text[0]\n",
    "    attributions = text[1:]\n",
    "    print(f'{label.upper()} : {attributions}')\n"
   ]
  },
  {
   "cell_type": "code",
   "execution_count": null,
   "metadata": {},
   "outputs": [],
   "source": []
  }
 ],
 "metadata": {
  "kernelspec": {
   "display_name": ".venv",
   "language": "python",
   "name": "python3"
  },
  "language_info": {
   "codemirror_mode": {
    "name": "ipython",
    "version": 3
   },
   "file_extension": ".py",
   "mimetype": "text/x-python",
   "name": "python",
   "nbconvert_exporter": "python",
   "pygments_lexer": "ipython3",
   "version": "3.9.18"
  }
 },
 "nbformat": 4,
 "nbformat_minor": 2
}
